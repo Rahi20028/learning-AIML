{
  "nbformat": 4,
  "nbformat_minor": 0,
  "metadata": {
    "colab": {
      "provenance": [],
      "authorship_tag": "ABX9TyP2B/uom98rHnjn7/7tLMQf",
      "include_colab_link": true
    },
    "kernelspec": {
      "name": "python3",
      "display_name": "Python 3"
    },
    "language_info": {
      "name": "python"
    }
  },
  "cells": [
    {
      "cell_type": "markdown",
      "metadata": {
        "id": "view-in-github",
        "colab_type": "text"
      },
      "source": [
        "<a href=\"https://colab.research.google.com/github/Rahi20028/learning-AIML/blob/main/Numpy.ipynb\" target=\"_parent\"><img src=\"https://colab.research.google.com/assets/colab-badge.svg\" alt=\"Open In Colab\"/></a>"
      ]
    },
    {
      "cell_type": "code",
      "execution_count": 1,
      "metadata": {
        "colab": {
          "base_uri": "https://localhost:8080/"
        },
        "id": "XMsyUFsqT2B1",
        "outputId": "d16eb062-4f7c-4d3b-907c-20f107cd7074"
      },
      "outputs": [
        {
          "output_type": "execute_result",
          "data": {
            "text/plain": [
              "[1, 2, 3, 4, 5]"
            ]
          },
          "metadata": {},
          "execution_count": 1
        }
      ],
      "source": [
        "# import library\n",
        "import numpy as np\n",
        "\n",
        "#list\n",
        "l1 = [1,2,3,4,5]\n",
        "l1"
      ]
    },
    {
      "cell_type": "code",
      "source": [
        "x = np.array(list)\n",
        "print(x)"
      ],
      "metadata": {
        "colab": {
          "base_uri": "https://localhost:8080/"
        },
        "id": "ApTTkK6QUUqO",
        "outputId": "f192b486-0a07-4ae2-f687-b537ce1b7a11"
      },
      "execution_count": 2,
      "outputs": [
        {
          "output_type": "stream",
          "name": "stdout",
          "text": [
            "<class 'list'>\n"
          ]
        }
      ]
    },
    {
      "cell_type": "markdown",
      "source": [
        "#compare list and numpy\n"
      ],
      "metadata": {
        "id": "LsEn3EQHUsiY"
      }
    },
    {
      "cell_type": "code",
      "source": [
        "from time import process_time\n",
        "# find time taken by list\n",
        "list1= [i for i in range(10000000)]\n",
        "start_time=process_time()\n",
        "list1=[i+10 for i in list1] #add 10 to each no.\n",
        "end_time=process_time()\n",
        "print(end_time-start_time)\n",
        "#print(list1)"
      ],
      "metadata": {
        "colab": {
          "base_uri": "https://localhost:8080/"
        },
        "id": "PHXLWiTwUwz7",
        "outputId": "5dd1a776-a091-40ca-edfc-9431ba078f7d"
      },
      "execution_count": 3,
      "outputs": [
        {
          "output_type": "stream",
          "name": "stdout",
          "text": [
            "0.7549508299999999\n"
          ]
        }
      ]
    },
    {
      "cell_type": "code",
      "source": [
        "#find time taken by the numpy array\n",
        "array=np.array([i for i in range(10000000)])\n",
        "start=process_time()\n",
        "array+=10\n",
        "end=process_time()\n",
        "print(end-start - start_time)"
      ],
      "metadata": {
        "colab": {
          "base_uri": "https://localhost:8080/"
        },
        "id": "rZOhUzZfVxTE",
        "outputId": "39dae519-7337-4048-c0fa-abe9a80c90ac"
      },
      "execution_count": 4,
      "outputs": [
        {
          "output_type": "stream",
          "name": "stdout",
          "text": [
            "-3.587641331000001\n"
          ]
        }
      ]
    },
    {
      "cell_type": "code",
      "source": [
        "#find the type of list and array\n",
        "print(type(list1))\n",
        "print(type(array))"
      ],
      "metadata": {
        "colab": {
          "base_uri": "https://localhost:8080/"
        },
        "id": "DgOl0JGOWEPz",
        "outputId": "050fa242-0b40-4ded-836c-ba58e7fdac31"
      },
      "execution_count": 5,
      "outputs": [
        {
          "output_type": "stream",
          "name": "stdout",
          "text": [
            "<class 'list'>\n",
            "<class 'numpy.ndarray'>\n"
          ]
        }
      ]
    },
    {
      "cell_type": "code",
      "source": [
        "#create 1D array with 5 elements\n",
        "x=np.array([1,2,3,4,5])\n",
        "print(x)"
      ],
      "metadata": {
        "colab": {
          "base_uri": "https://localhost:8080/"
        },
        "id": "M3IuZfARWS9D",
        "outputId": "443d5220-f36e-4259-a35a-29cf541d67e5"
      },
      "execution_count": 6,
      "outputs": [
        {
          "output_type": "stream",
          "name": "stdout",
          "text": [
            "[1 2 3 4 5]\n"
          ]
        }
      ]
    },
    {
      "cell_type": "code",
      "source": [
        "#generate random value\n",
        "x=np.random.rand(5)\n",
        "print(x)"
      ],
      "metadata": {
        "colab": {
          "base_uri": "https://localhost:8080/"
        },
        "id": "kAlfJajRWd5m",
        "outputId": "6be28cfa-1d32-4a84-c2b9-318d2f743e40"
      },
      "execution_count": 7,
      "outputs": [
        {
          "output_type": "stream",
          "name": "stdout",
          "text": [
            "[0.53975904 0.66621046 0.25654122 0.61890642 0.21159051]\n"
          ]
        }
      ]
    },
    {
      "cell_type": "code",
      "source": [
        "#generate random value from range 5 to 15 with 1D array size 10\n",
        "#randint(first arg=low, second= high-1, no. of elements)\n",
        "x=np.random.randint(5,16,10)\n",
        "print(x)"
      ],
      "metadata": {
        "colab": {
          "base_uri": "https://localhost:8080/"
        },
        "id": "At6YgkYyWn9C",
        "outputId": "507f6fa1-58a5-4e2f-d458-7d9ff4be7ca5"
      },
      "execution_count": 8,
      "outputs": [
        {
          "output_type": "stream",
          "name": "stdout",
          "text": [
            "[11  5  9  6 15 15  5  5  6  6]\n"
          ]
        }
      ]
    },
    {
      "cell_type": "code",
      "source": [
        "#create 2D array - 4 by 3\n",
        "y=np.array([[1,2,3],[4,5,6],[7,8,9],[9,4,2]])\n",
        "print(y)"
      ],
      "metadata": {
        "colab": {
          "base_uri": "https://localhost:8080/"
        },
        "id": "-J7FPHGlXGn3",
        "outputId": "ff1fc08b-5815-4f13-de8d-f9331a9b54f5"
      },
      "execution_count": 9,
      "outputs": [
        {
          "output_type": "stream",
          "name": "stdout",
          "text": [
            "[[1 2 3]\n",
            " [4 5 6]\n",
            " [7 8 9]\n",
            " [9 4 2]]\n"
          ]
        }
      ]
    },
    {
      "cell_type": "code",
      "source": [
        "#. Generate random value from range 5 to 15 with 2D array size 3 by 3.\n",
        "y=np.random.randint(5,16,(3,3))\n",
        "print(y)"
      ],
      "metadata": {
        "colab": {
          "base_uri": "https://localhost:8080/"
        },
        "id": "wFEVxf36XYcS",
        "outputId": "06c762cf-8af4-47d4-da94-c48131dc3580"
      },
      "execution_count": 10,
      "outputs": [
        {
          "output_type": "stream",
          "name": "stdout",
          "text": [
            "[[ 6  7 11]\n",
            " [15 14  6]\n",
            " [ 5  7  6]]\n"
          ]
        }
      ]
    },
    {
      "cell_type": "code",
      "source": [
        "#assign float value\n",
        "y=np.array([[1.6,2,3],[4,5,6],[7,8,9],[9,4,2]],dtype=float)\n",
        "print(y)"
      ],
      "metadata": {
        "colab": {
          "base_uri": "https://localhost:8080/"
        },
        "id": "0VaXMjdVXnSS",
        "outputId": "4b67f43f-18e0-4b6c-f6f2-b1b39f5f925a"
      },
      "execution_count": 11,
      "outputs": [
        {
          "output_type": "stream",
          "name": "stdout",
          "text": [
            "[[1.6 2.  3. ]\n",
            " [4.  5.  6. ]\n",
            " [7.  8.  9. ]\n",
            " [9.  4.  2. ]]\n"
          ]
        }
      ]
    },
    {
      "cell_type": "code",
      "source": [
        "#create 3D array\n",
        "z=np.array([[[1,2,3],[4,5,6],[7,8,9],[9,4,2]],[[1,2,3],[4,5,6],[7,8,9],[9,4,2]]])\n",
        "print(z)"
      ],
      "metadata": {
        "colab": {
          "base_uri": "https://localhost:8080/"
        },
        "id": "rv5d46eAYVOJ",
        "outputId": "50af389c-24f2-485d-f93a-43a2fc21efd3"
      },
      "execution_count": 12,
      "outputs": [
        {
          "output_type": "stream",
          "name": "stdout",
          "text": [
            "[[[1 2 3]\n",
            "  [4 5 6]\n",
            "  [7 8 9]\n",
            "  [9 4 2]]\n",
            "\n",
            " [[1 2 3]\n",
            "  [4 5 6]\n",
            "  [7 8 9]\n",
            "  [9 4 2]]]\n"
          ]
        }
      ]
    },
    {
      "cell_type": "code",
      "source": [
        "a=np.zeros((5,5), dtype=int)\n",
        "print(a)"
      ],
      "metadata": {
        "colab": {
          "base_uri": "https://localhost:8080/"
        },
        "id": "ZzEJJL8zYe-m",
        "outputId": "d6ee59f6-6b99-495b-ea7e-6f0f9ffca064"
      },
      "execution_count": 13,
      "outputs": [
        {
          "output_type": "stream",
          "name": "stdout",
          "text": [
            "[[0 0 0 0 0]\n",
            " [0 0 0 0 0]\n",
            " [0 0 0 0 0]\n",
            " [0 0 0 0 0]\n",
            " [0 0 0 0 0]]\n"
          ]
        }
      ]
    },
    {
      "cell_type": "code",
      "source": [
        "a=np.ones((5,5),dtype=int)\n",
        "print(a)"
      ],
      "metadata": {
        "colab": {
          "base_uri": "https://localhost:8080/"
        },
        "id": "TCYzxKm0YsAb",
        "outputId": "2e33ec90-5ce0-48c6-cb4d-2265f76fb251"
      },
      "execution_count": 14,
      "outputs": [
        {
          "output_type": "stream",
          "name": "stdout",
          "text": [
            "[[1 1 1 1 1]\n",
            " [1 1 1 1 1]\n",
            " [1 1 1 1 1]\n",
            " [1 1 1 1 1]\n",
            " [1 1 1 1 1]]\n"
          ]
        }
      ]
    },
    {
      "cell_type": "code",
      "source": [
        "a=np.full((5,5),4)\n",
        "print(a)"
      ],
      "metadata": {
        "colab": {
          "base_uri": "https://localhost:8080/"
        },
        "id": "Myx-n1SsY0er",
        "outputId": "4417450d-1ccc-4d55-8a83-7da3dc28146e"
      },
      "execution_count": 15,
      "outputs": [
        {
          "output_type": "stream",
          "name": "stdout",
          "text": [
            "[[4 4 4 4 4]\n",
            " [4 4 4 4 4]\n",
            " [4 4 4 4 4]\n",
            " [4 4 4 4 4]\n",
            " [4 4 4 4 4]]\n"
          ]
        }
      ]
    },
    {
      "cell_type": "code",
      "source": [
        "#create identical matrix\n",
        "a=np.eye(4,5,dtype=int)\n",
        "print(a)"
      ],
      "metadata": {
        "colab": {
          "base_uri": "https://localhost:8080/"
        },
        "id": "buDY5M3OY8VV",
        "outputId": "2f03a0c3-f4be-4a2f-e7ec-a2025f830ce5"
      },
      "execution_count": 16,
      "outputs": [
        {
          "output_type": "stream",
          "name": "stdout",
          "text": [
            "[[1 0 0 0 0]\n",
            " [0 1 0 0 0]\n",
            " [0 0 1 0 0]\n",
            " [0 0 0 1 0]]\n"
          ]
        }
      ]
    },
    {
      "cell_type": "code",
      "source": [
        "#find shape of array\n",
        "print(\"shape of array a is: \", a.shape)"
      ],
      "metadata": {
        "colab": {
          "base_uri": "https://localhost:8080/"
        },
        "id": "iiDJGqzNZIZN",
        "outputId": "07af579e-bc96-4935-f01c-89a282768325"
      },
      "execution_count": 17,
      "outputs": [
        {
          "output_type": "stream",
          "name": "stdout",
          "text": [
            "shape of array a is:  (4, 5)\n"
          ]
        }
      ]
    },
    {
      "cell_type": "code",
      "source": [
        "#find dimension of array\n",
        "x.ndim"
      ],
      "metadata": {
        "colab": {
          "base_uri": "https://localhost:8080/"
        },
        "id": "yaBwEbuuZQXP",
        "outputId": "47c2a862-1bb1-4cd4-e469-156622a538fc"
      },
      "execution_count": 18,
      "outputs": [
        {
          "output_type": "execute_result",
          "data": {
            "text/plain": [
              "1"
            ]
          },
          "metadata": {},
          "execution_count": 18
        }
      ]
    },
    {
      "cell_type": "code",
      "source": [
        "#find number of elements in array\n",
        "a.size"
      ],
      "metadata": {
        "colab": {
          "base_uri": "https://localhost:8080/"
        },
        "id": "tf_MMjGfZcYz",
        "outputId": "57f594cd-f2d6-4030-fcf5-019a410d1a5c"
      },
      "execution_count": 19,
      "outputs": [
        {
          "output_type": "execute_result",
          "data": {
            "text/plain": [
              "20"
            ]
          },
          "metadata": {},
          "execution_count": 19
        }
      ]
    },
    {
      "cell_type": "code",
      "source": [
        "#find datatype\n",
        "a.dtype"
      ],
      "metadata": {
        "colab": {
          "base_uri": "https://localhost:8080/"
        },
        "id": "PTCSPlFsZi0Z",
        "outputId": "d545eb9a-c280-45ff-d31b-72172b6806ed"
      },
      "execution_count": 20,
      "outputs": [
        {
          "output_type": "execute_result",
          "data": {
            "text/plain": [
              "dtype('int64')"
            ]
          },
          "metadata": {},
          "execution_count": 20
        }
      ]
    },
    {
      "cell_type": "code",
      "source": [
        "#find maximum from array y\n",
        "y.max()"
      ],
      "metadata": {
        "colab": {
          "base_uri": "https://localhost:8080/"
        },
        "id": "dmT8FZLHZoFW",
        "outputId": "6accc4e9-1520-4ab9-d0a4-7bf505f2963e"
      },
      "execution_count": 21,
      "outputs": [
        {
          "output_type": "execute_result",
          "data": {
            "text/plain": [
              "np.float64(9.0)"
            ]
          },
          "metadata": {},
          "execution_count": 21
        }
      ]
    },
    {
      "cell_type": "code",
      "source": [
        "y.min()"
      ],
      "metadata": {
        "colab": {
          "base_uri": "https://localhost:8080/"
        },
        "id": "ExLtQRRiZ0j4",
        "outputId": "fd14371b-1093-4ad9-d842-3a103b2a0ae4"
      },
      "execution_count": 22,
      "outputs": [
        {
          "output_type": "execute_result",
          "data": {
            "text/plain": [
              "np.float64(1.6)"
            ]
          },
          "metadata": {},
          "execution_count": 22
        }
      ]
    },
    {
      "cell_type": "code",
      "source": [
        "y.argmin()"
      ],
      "metadata": {
        "colab": {
          "base_uri": "https://localhost:8080/"
        },
        "id": "NFKfdAm5Z4mK",
        "outputId": "f1d657d0-efa9-42c0-be22-50b5b6cbb031"
      },
      "execution_count": 23,
      "outputs": [
        {
          "output_type": "execute_result",
          "data": {
            "text/plain": [
              "np.int64(0)"
            ]
          },
          "metadata": {},
          "execution_count": 23
        }
      ]
    },
    {
      "cell_type": "code",
      "source": [
        "y.mean()"
      ],
      "metadata": {
        "colab": {
          "base_uri": "https://localhost:8080/"
        },
        "id": "19a0DsChZ9db",
        "outputId": "0eb933aa-13c5-42e8-8967-872bc6b0a0e3"
      },
      "execution_count": 24,
      "outputs": [
        {
          "output_type": "execute_result",
          "data": {
            "text/plain": [
              "np.float64(5.05)"
            ]
          },
          "metadata": {},
          "execution_count": 24
        }
      ]
    },
    {
      "cell_type": "code",
      "source": [
        "y"
      ],
      "metadata": {
        "colab": {
          "base_uri": "https://localhost:8080/"
        },
        "id": "DCqv9TF8Z_Zk",
        "outputId": "9de360d8-9daa-458a-c610-3aee3e40b93b"
      },
      "execution_count": 25,
      "outputs": [
        {
          "output_type": "execute_result",
          "data": {
            "text/plain": [
              "array([[1.6, 2. , 3. ],\n",
              "       [4. , 5. , 6. ],\n",
              "       [7. , 8. , 9. ],\n",
              "       [9. , 4. , 2. ]])"
            ]
          },
          "metadata": {},
          "execution_count": 25
        }
      ]
    },
    {
      "cell_type": "code",
      "source": [
        "#find location of maximum from array y\n",
        "y.argmax()"
      ],
      "metadata": {
        "colab": {
          "base_uri": "https://localhost:8080/"
        },
        "id": "5wZHOkyzaCgl",
        "outputId": "3020df67-aee0-4f79-c4e1-e1a852059126"
      },
      "execution_count": 26,
      "outputs": [
        {
          "output_type": "execute_result",
          "data": {
            "text/plain": [
              "np.int64(8)"
            ]
          },
          "metadata": {},
          "execution_count": 26
        }
      ]
    },
    {
      "cell_type": "code",
      "source": [
        "#Create two 2D array of size 3 by 3 and perform four basic mathematical function\n",
        "a=np.random.randint(10,20,(3,3))\n",
        "b=np.random.randint(20,30,(3,3))\n",
        "print(a)\n",
        "print(b)"
      ],
      "metadata": {
        "colab": {
          "base_uri": "https://localhost:8080/"
        },
        "id": "ABzcsCv3aM0j",
        "outputId": "f0941e88-39e3-4734-b9b2-80e98bb826a8"
      },
      "execution_count": 27,
      "outputs": [
        {
          "output_type": "stream",
          "name": "stdout",
          "text": [
            "[[11 14 14]\n",
            " [15 15 14]\n",
            " [13 16 11]]\n",
            "[[20 23 25]\n",
            " [28 28 28]\n",
            " [22 29 29]]\n"
          ]
        }
      ]
    },
    {
      "cell_type": "code",
      "source": [
        "print(a+b)"
      ],
      "metadata": {
        "colab": {
          "base_uri": "https://localhost:8080/"
        },
        "id": "27WR5L_8a7TP",
        "outputId": "920f05b8-0ecc-4d28-c3d7-053a28aeabda"
      },
      "execution_count": 28,
      "outputs": [
        {
          "output_type": "stream",
          "name": "stdout",
          "text": [
            "[[31 37 39]\n",
            " [43 43 42]\n",
            " [35 45 40]]\n"
          ]
        }
      ]
    },
    {
      "cell_type": "code",
      "source": [
        "np.add(a,b)"
      ],
      "metadata": {
        "colab": {
          "base_uri": "https://localhost:8080/"
        },
        "id": "g5bxfgOJbAFD",
        "outputId": "cc002e1f-b5b4-4ce7-8956-5481d423d9c6"
      },
      "execution_count": 29,
      "outputs": [
        {
          "output_type": "execute_result",
          "data": {
            "text/plain": [
              "array([[31, 37, 39],\n",
              "       [43, 43, 42],\n",
              "       [35, 45, 40]])"
            ]
          },
          "metadata": {},
          "execution_count": 29
        }
      ]
    },
    {
      "cell_type": "code",
      "source": [
        "#print(a - b)\n",
        "np.subtract(a,b)"
      ],
      "metadata": {
        "colab": {
          "base_uri": "https://localhost:8080/"
        },
        "id": "kyInU_IkbDpv",
        "outputId": "e642f077-5a3d-4c98-efc6-72aee19d0908"
      },
      "execution_count": 30,
      "outputs": [
        {
          "output_type": "execute_result",
          "data": {
            "text/plain": [
              "array([[ -9,  -9, -11],\n",
              "       [-13, -13, -14],\n",
              "       [ -9, -13, -18]])"
            ]
          },
          "metadata": {},
          "execution_count": 30
        }
      ]
    },
    {
      "cell_type": "code",
      "source": [
        "print(a*b)\n",
        "#np.multiply(a,b)"
      ],
      "metadata": {
        "colab": {
          "base_uri": "https://localhost:8080/"
        },
        "id": "f1INwMeHbOjo",
        "outputId": "028ce2a2-a7af-449f-bf10-033027850822"
      },
      "execution_count": 31,
      "outputs": [
        {
          "output_type": "stream",
          "name": "stdout",
          "text": [
            "[[220 322 350]\n",
            " [420 420 392]\n",
            " [286 464 319]]\n"
          ]
        }
      ]
    },
    {
      "cell_type": "code",
      "source": [
        "#print(a/b)\n",
        "np.divide(a,b)"
      ],
      "metadata": {
        "colab": {
          "base_uri": "https://localhost:8080/"
        },
        "id": "rjDOfgrsbV9O",
        "outputId": "a1633d57-3406-481f-b476-1025b700ab4b"
      },
      "execution_count": 32,
      "outputs": [
        {
          "output_type": "execute_result",
          "data": {
            "text/plain": [
              "array([[0.55      , 0.60869565, 0.56      ],\n",
              "       [0.53571429, 0.53571429, 0.5       ],\n",
              "       [0.59090909, 0.55172414, 0.37931034]])"
            ]
          },
          "metadata": {},
          "execution_count": 32
        }
      ]
    },
    {
      "cell_type": "code",
      "source": [
        "#Print index 2 and -2 value for 1D array. (indexing).\n",
        "x=np.array([10,12,43,34,54,32])\n",
        "print(x)\n",
        "print(x[2])\n",
        "print(x[-2])"
      ],
      "metadata": {
        "colab": {
          "base_uri": "https://localhost:8080/"
        },
        "id": "y-6wS-iwblot",
        "outputId": "f3385937-36ab-4122-8a0c-161ce645309b"
      },
      "execution_count": 33,
      "outputs": [
        {
          "output_type": "stream",
          "name": "stdout",
          "text": [
            "[10 12 43 34 54 32]\n",
            "43\n",
            "54\n"
          ]
        }
      ]
    },
    {
      "cell_type": "code",
      "source": [
        "#perform indexing operations with 2D array\n",
        "y=np.array([[1,2,3],[4,5,6],[6,7,8],[8,9,5]])\n",
        "print(y)"
      ],
      "metadata": {
        "colab": {
          "base_uri": "https://localhost:8080/"
        },
        "id": "YPOW-gDZb-F9",
        "outputId": "187e9701-c2d4-4bd8-8d5f-e40078170327"
      },
      "execution_count": 34,
      "outputs": [
        {
          "output_type": "stream",
          "name": "stdout",
          "text": [
            "[[1 2 3]\n",
            " [4 5 6]\n",
            " [6 7 8]\n",
            " [8 9 5]]\n"
          ]
        }
      ]
    },
    {
      "cell_type": "code",
      "source": [
        "print(\"element at row 0, column 0: \", y[0,0])\n",
        "print(\"element at row 0, column 2: \",y[0,2])"
      ],
      "metadata": {
        "colab": {
          "base_uri": "https://localhost:8080/"
        },
        "id": "zJ6tWlarcOc6",
        "outputId": "df633808-6fe3-4dd1-d770-54b1b04e79ba"
      },
      "execution_count": 35,
      "outputs": [
        {
          "output_type": "stream",
          "name": "stdout",
          "text": [
            "element at row 0, column 0:  1\n",
            "element at row 0, column 2:  3\n"
          ]
        }
      ]
    },
    {
      "cell_type": "code",
      "source": [
        "print(\"last element in row : \", y[0, -1])\n",
        "print(\"Last element in row 2:\", y[2, -1])\n",
        "print(\"Second-to-last element in row 1:\", y[1, -2])"
      ],
      "metadata": {
        "colab": {
          "base_uri": "https://localhost:8080/"
        },
        "id": "5OsZ-MIPIDdI",
        "outputId": "e674651c-4a66-45de-89e7-451fc119e51b"
      },
      "execution_count": 36,
      "outputs": [
        {
          "output_type": "stream",
          "name": "stdout",
          "text": [
            "last element in row :  3\n",
            "Last element in row 2: 8\n",
            "Second-to-last element in row 1: 5\n"
          ]
        }
      ]
    },
    {
      "cell_type": "code",
      "source": [
        "print(x)\n",
        "x[2:6]"
      ],
      "metadata": {
        "colab": {
          "base_uri": "https://localhost:8080/"
        },
        "id": "MBcD_YgdItPT",
        "outputId": "fa1a966d-9ecb-41e1-91fa-e9d02bdf206f"
      },
      "execution_count": 37,
      "outputs": [
        {
          "output_type": "stream",
          "name": "stdout",
          "text": [
            "[10 12 43 34 54 32]\n"
          ]
        },
        {
          "output_type": "execute_result",
          "data": {
            "text/plain": [
              "array([43, 34, 54, 32])"
            ]
          },
          "metadata": {},
          "execution_count": 37
        }
      ]
    },
    {
      "cell_type": "code",
      "source": [
        "x[:5]\n",
        "x[5:]"
      ],
      "metadata": {
        "colab": {
          "base_uri": "https://localhost:8080/"
        },
        "id": "PkEZ5gKlI0W8",
        "outputId": "8f215f85-12cc-4081-ea07-510acacc27f7"
      },
      "execution_count": 38,
      "outputs": [
        {
          "output_type": "execute_result",
          "data": {
            "text/plain": [
              "array([32])"
            ]
          },
          "metadata": {},
          "execution_count": 38
        }
      ]
    },
    {
      "cell_type": "code",
      "source": [
        "x[:5]"
      ],
      "metadata": {
        "colab": {
          "base_uri": "https://localhost:8080/"
        },
        "id": "CjLYYNJsI-AO",
        "outputId": "99318c01-19c3-45ab-d352-a157a4b00876"
      },
      "execution_count": 39,
      "outputs": [
        {
          "output_type": "execute_result",
          "data": {
            "text/plain": [
              "array([10, 12, 43, 34, 54])"
            ]
          },
          "metadata": {},
          "execution_count": 39
        }
      ]
    },
    {
      "cell_type": "code",
      "source": [
        "x[5:]"
      ],
      "metadata": {
        "colab": {
          "base_uri": "https://localhost:8080/"
        },
        "id": "N7-MqPhcJFeW",
        "outputId": "cddbc1c4-e7d2-488d-9508-394f42d25beb"
      },
      "execution_count": 40,
      "outputs": [
        {
          "output_type": "execute_result",
          "data": {
            "text/plain": [
              "array([32])"
            ]
          },
          "metadata": {},
          "execution_count": 40
        }
      ]
    },
    {
      "cell_type": "code",
      "source": [
        "x"
      ],
      "metadata": {
        "colab": {
          "base_uri": "https://localhost:8080/"
        },
        "id": "kaYm2WnVJJaM",
        "outputId": "e9df2aad-cf57-43b0-ab74-86f722ac3509"
      },
      "execution_count": 41,
      "outputs": [
        {
          "output_type": "execute_result",
          "data": {
            "text/plain": [
              "array([10, 12, 43, 34, 54, 32])"
            ]
          },
          "metadata": {},
          "execution_count": 41
        }
      ]
    },
    {
      "cell_type": "code",
      "source": [
        "x[5]=100\n",
        "x"
      ],
      "metadata": {
        "colab": {
          "base_uri": "https://localhost:8080/"
        },
        "id": "C95De03AJNzG",
        "outputId": "7edf186b-6491-4a5c-ceea-269d1f688670"
      },
      "execution_count": 42,
      "outputs": [
        {
          "output_type": "execute_result",
          "data": {
            "text/plain": [
              "array([ 10,  12,  43,  34,  54, 100])"
            ]
          },
          "metadata": {},
          "execution_count": 42
        }
      ]
    },
    {
      "cell_type": "code",
      "source": [
        "x[1:8:2]"
      ],
      "metadata": {
        "colab": {
          "base_uri": "https://localhost:8080/"
        },
        "id": "R68W3g6NJcMA",
        "outputId": "4bd5cf63-4b2d-48f0-bacc-d4f11bb5f114"
      },
      "execution_count": 43,
      "outputs": [
        {
          "output_type": "execute_result",
          "data": {
            "text/plain": [
              "array([ 12,  34, 100])"
            ]
          },
          "metadata": {},
          "execution_count": 43
        }
      ]
    },
    {
      "cell_type": "code",
      "source": [
        "slice_array=x[0:5]\n",
        "slice_array\n"
      ],
      "metadata": {
        "colab": {
          "base_uri": "https://localhost:8080/"
        },
        "id": "5NNTxQxBJ9dk",
        "outputId": "41c9e87f-936e-4cdd-bec5-f0fdbef559db"
      },
      "execution_count": 44,
      "outputs": [
        {
          "output_type": "execute_result",
          "data": {
            "text/plain": [
              "array([10, 12, 43, 34, 54])"
            ]
          },
          "metadata": {},
          "execution_count": 44
        }
      ]
    },
    {
      "cell_type": "code",
      "source": [
        "slice_array[:]=99\n",
        "slice_array"
      ],
      "metadata": {
        "colab": {
          "base_uri": "https://localhost:8080/"
        },
        "id": "4XkXGstJK6yp",
        "outputId": "8c1065de-155f-4995-d13d-b4a9865b6ce7"
      },
      "execution_count": 45,
      "outputs": [
        {
          "output_type": "execute_result",
          "data": {
            "text/plain": [
              "array([99, 99, 99, 99, 99])"
            ]
          },
          "metadata": {},
          "execution_count": 45
        }
      ]
    },
    {
      "cell_type": "code",
      "source": [
        "np.flip(x)"
      ],
      "metadata": {
        "colab": {
          "base_uri": "https://localhost:8080/"
        },
        "id": "qMn0LadHLB9J",
        "outputId": "db16990f-ab2c-4f8b-fa11-b46368c8b538"
      },
      "execution_count": 46,
      "outputs": [
        {
          "output_type": "execute_result",
          "data": {
            "text/plain": [
              "array([100,  99,  99,  99,  99,  99])"
            ]
          },
          "metadata": {},
          "execution_count": 46
        }
      ]
    },
    {
      "cell_type": "code",
      "source": [
        "x[::-1]"
      ],
      "metadata": {
        "colab": {
          "base_uri": "https://localhost:8080/"
        },
        "id": "qeUdGn6jLHTN",
        "outputId": "33de10f3-2ac3-429f-d48c-29d82abdd5e3"
      },
      "execution_count": 47,
      "outputs": [
        {
          "output_type": "execute_result",
          "data": {
            "text/plain": [
              "array([100,  99,  99,  99,  99,  99])"
            ]
          },
          "metadata": {},
          "execution_count": 47
        }
      ]
    },
    {
      "cell_type": "code",
      "source": [
        "x"
      ],
      "metadata": {
        "colab": {
          "base_uri": "https://localhost:8080/"
        },
        "id": "MCbGoGTILQcC",
        "outputId": "a0d7e916-022a-4ba4-f97a-ad37359124d0"
      },
      "execution_count": 48,
      "outputs": [
        {
          "output_type": "execute_result",
          "data": {
            "text/plain": [
              "array([ 99,  99,  99,  99,  99, 100])"
            ]
          },
          "metadata": {},
          "execution_count": 48
        }
      ]
    },
    {
      "cell_type": "code",
      "source": [
        "arraycopy= x.copy()\n",
        "arraycopy"
      ],
      "metadata": {
        "colab": {
          "base_uri": "https://localhost:8080/"
        },
        "id": "jhyLI1SfLSLP",
        "outputId": "65c1471d-4580-4010-eda8-ef609f5b122e"
      },
      "execution_count": 49,
      "outputs": [
        {
          "output_type": "execute_result",
          "data": {
            "text/plain": [
              "array([ 99,  99,  99,  99,  99, 100])"
            ]
          },
          "metadata": {},
          "execution_count": 49
        }
      ]
    },
    {
      "cell_type": "code",
      "source": [
        "arraycopy[:]=100\n",
        "arraycopy"
      ],
      "metadata": {
        "colab": {
          "base_uri": "https://localhost:8080/"
        },
        "id": "a8dCVDOeLXrc",
        "outputId": "b9bb7f58-bc95-4b29-fd50-6b1605f58cf8"
      },
      "execution_count": 50,
      "outputs": [
        {
          "output_type": "execute_result",
          "data": {
            "text/plain": [
              "array([100, 100, 100, 100, 100, 100])"
            ]
          },
          "metadata": {},
          "execution_count": 50
        }
      ]
    },
    {
      "cell_type": "code",
      "source": [
        "x"
      ],
      "metadata": {
        "colab": {
          "base_uri": "https://localhost:8080/"
        },
        "id": "nSVkJ9yCLdn0",
        "outputId": "b66ca263-5938-429b-d4ea-f4a99b067bf2"
      },
      "execution_count": 51,
      "outputs": [
        {
          "output_type": "execute_result",
          "data": {
            "text/plain": [
              "array([ 99,  99,  99,  99,  99, 100])"
            ]
          },
          "metadata": {},
          "execution_count": 51
        }
      ]
    },
    {
      "cell_type": "code",
      "source": [
        "arr_2d = np.array([[0,1,2],[3,4,5],[6,7,8]])\n",
        "subarr= arr_2d[0:,:2]\n",
        "subarr"
      ],
      "metadata": {
        "colab": {
          "base_uri": "https://localhost:8080/"
        },
        "id": "6s2b028_Lhni",
        "outputId": "56d6c947-ada5-4e19-cc36-51d3db25d617"
      },
      "execution_count": 52,
      "outputs": [
        {
          "output_type": "execute_result",
          "data": {
            "text/plain": [
              "array([[0, 1],\n",
              "       [3, 4],\n",
              "       [6, 7]])"
            ]
          },
          "metadata": {},
          "execution_count": 52
        }
      ]
    }
  ]
}